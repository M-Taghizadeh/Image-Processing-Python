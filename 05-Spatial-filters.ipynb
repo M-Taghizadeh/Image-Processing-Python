{
 "cells": [
  {
   "cell_type": "markdown",
   "metadata": {},
   "source": [
    "# Spatial Filtering\n",
    "\n",
    "**Spatial Filtering** technique is used directly on pixels of an image. Mask is usually considered to be added in size so that it has specific center pixel. This mask is moved on the image such that the center of the mask traverses all image pixels.\n",
    "\n",
    "1. Linear Spatial Filter\n",
    "2. Non-linear Spatial Filter\n",
    "\n",
    "![Image filtering 1](dataset/imgs/spatial1.jpg)\n"
   ]
  },
  {
   "cell_type": "markdown",
   "metadata": {},
   "source": [
    "**Smoothing Spatial Filter:** Smoothing filter is used for blurring and noise reduction in the image. Blurring is pre-processing steps for removal of small details and Noise Reduction is accomplished by blurring.\n",
    "\n",
    "Types of Smoothing Spatial Filter:\n",
    "\n",
    "1. Linear Filter (Mean Filter)\n",
    "2. Order Statistics (Non-linear) filter \n",
    "\n",
    "These are explained as following below.\n",
    "\n",
    "**Mean Filter:**\n",
    "\n",
    "Linear spatial filter is simply the average of the pixels contained in the neighborhood of the filter mask. The idea is replacing the value of every pixel in an image by the average of the grey levels in the neighborhood define by the filter mask.\n",
    "\n",
    "Types of Mean filter:\n",
    "\n",
    "> *(i) Averaging filter:* It is used in reduction of the detail in image. All coefficients are equal.\n",
    "\n",
    "\n",
    "![Averaging](dataset/imgs/spatial2.jpg)\n",
    "\n",
    "\n",
    "> *(ii) Weighted averaging filter:* In this, pixels are multiplied by different coefficients. Center pixel is multiplied by a higher value than average filter.\n",
    "\n",
    "\n",
    "**Order Statistics Filter:**\n",
    "\n",
    "It is based on the ordering the pixels contained in the image area encompassed by the filter. It replaces the value of the center pixel with the value determined by the ranking result. Edges are better preserved in this filtering.\n",
    "\n",
    "Types of Order statistics filter:\n",
    "\n",
    "> *(i) Minimum filter:* 0th percentile filter is the minimum filter. The value of the center is replaced by the smallest value in the window.\n",
    "\n",
    "> *(ii) Maximum filter:* 100th percentile filter is the maximum filter. The value of the center is replaced by the largest value in the window.\n",
    "\n",
    "> *(iii) Median filter:* Each pixel in the image is considered. First neighboring pixels are sorted and original values of the pixel is replaced by the median of the list."
   ]
  },
  {
   "cell_type": "markdown",
   "metadata": {},
   "source": [
    "## Image Convolution\n",
    "\n",
    "![image convolution gif](dataset/imgs/spatial3.jpg)\n",
    "\n",
    "\n",
    "**How one performs convolution on an image?**\n",
    "\n",
    "![Convolution of image](dataset/imgs/spatial4.jpg)\n",
    "\n",
    "And how do the values are computed? Here is an example...\n",
    "\n",
    "![Convolution of image, arithmetics](dataset/imgs/spatial5.gif)"
   ]
  },
  {
   "cell_type": "markdown",
   "metadata": {},
   "source": [
    "What if the image is multi-channel?\n",
    "\n",
    "So, the kernel would also be a multi-channel kernel, and the convolution will occur on all channels. This is how it is demostrated.\n",
    "\n",
    "![multi-channel convolution](dataset/imgs/spatial8.jpg)\n",
    "\n",
    "Now, look at how it moves in animation:\n",
    "\n",
    "![Multi-channel convolution](dataset/imgs/spatial6.gif)\n",
    "\n",
    "\n",
    "![image sharpening](dataset/imgs/spatial7.png)"
   ]
  },
  {
   "cell_type": "markdown",
   "metadata": {},
   "source": [
    "## Convolution Operation\n",
    "\n",
    "### scipy.signal.convolve2d()"
   ]
  },
  {
   "cell_type": "code",
   "execution_count": 5,
   "metadata": {},
   "outputs": [
    {
     "name": "stdout",
     "output_type": "stream",
     "text": [
      "[[184 184 201 241 267 267]\n",
      " [184 184 201 241 267 267]\n",
      " [143 143 209 272 252 252]\n",
      " [161 161 205 260  29  29]\n",
      " [158 158 255 224 166 166]\n",
      " [158 158 255 224 166 166]]\n"
     ]
    }
   ],
   "source": [
    "from scipy import signal\n",
    "\n",
    "\n",
    "# for example \n",
    "kernel = [\n",
    "    [0, -1, 0],\n",
    "    [-1, 5, -1],\n",
    "    [0, -1, 0]\n",
    "]\n",
    "\n",
    "img = [\n",
    "    [190, 206, 228, 238],\n",
    "    [180, 205, 227, 219],\n",
    "    [182, 203, 211, 159],\n",
    "    [184, 212, 206, 177]\n",
    "]\n",
    "\n",
    "print(signal.convolve2d(img, kernel, boundary=\"symm\"))\n"
   ]
  },
  {
   "cell_type": "code",
   "execution_count": 6,
   "metadata": {},
   "outputs": [
    {
     "name": "stdout",
     "output_type": "stream",
     "text": [
      "[[208.3231 208.3231 202.413  198.5626 198.1941 198.1941]\n",
      " [208.3231 208.3231 202.413  198.5626 198.1941 198.1941]\n",
      " [220.6117 220.6117 214.8457 208.0947 213.8241 213.8241]\n",
      " [227.9516 227.9516 218.6319 221.3496 230.4079 230.4079]\n",
      " [228.1421 228.1421 215.5618 230.1563 235.5418 235.5418]\n",
      " [228.1421 228.1421 215.5618 230.1563 235.5418 235.5418]]\n"
     ]
    }
   ],
   "source": [
    "from scipy import signal\n",
    "\n",
    "\n",
    "gaussian_kernel = [\n",
    "    [0.0116, 0.0861, 0.0116],\n",
    "    [0.0861, 0.6366, 0.0861],\n",
    "    [0.0116, 0.0861, 0.0116]\n",
    "]\n",
    "\n",
    "img_matrix = [\n",
    "    [202, 195, 192, 191],\n",
    "    [216, 211, 200, 209],\n",
    "    [224, 212, 215, 227],\n",
    "    [224, 205, 227, 230]\n",
    "]\n",
    "\n",
    "\n",
    "print(signal.convolve2d(img_matrix, gaussian_kernel, boundary=\"symm\"))"
   ]
  },
  {
   "cell_type": "markdown",
   "metadata": {},
   "source": [
    "## Median Filter"
   ]
  },
  {
   "cell_type": "code",
   "execution_count": 56,
   "metadata": {},
   "outputs": [
    {
     "data": {
      "text/plain": [
       "array([[32, 32, 32, 32],\n",
       "       [23, 32, 32, 32],\n",
       "       [32, 44, 32, 23],\n",
       "       [44, 44, 23, 23],\n",
       "       [44, 44, 23, 23]])"
      ]
     },
     "execution_count": 56,
     "metadata": {},
     "output_type": "execute_result"
    }
   ],
   "source": [
    "from scipy.ndimage import median_filter\n",
    "\n",
    "img = [\n",
    "    [23, 51, 23, 32],\n",
    "    [32, 44, 44, 23],\n",
    "    [23, 23, 44, 32],\n",
    "    [44, 44, 23, 23],\n",
    "    [44, 44, 23, 23]\n",
    "]\n",
    "\n",
    "\n",
    "# Median Spatial Domain Filtering\n",
    "median_filter(img, size=3, )"
   ]
  },
  {
   "cell_type": "markdown",
   "metadata": {},
   "source": [
    "## Gaussian Filter"
   ]
  },
  {
   "cell_type": "code",
   "execution_count": 52,
   "metadata": {},
   "outputs": [
    {
     "name": "stdout",
     "output_type": "stream",
     "text": [
      "[[202 196 192 192]\n",
      " [214 208 201 208]\n",
      " [221 212 214 223]\n",
      " [221 209 223 228]]\n"
     ]
    }
   ],
   "source": [
    "from scipy.ndimage import gaussian_filter\n",
    "\n",
    "\n",
    "img_matrix = [\n",
    "    [202, 195, 192, 191],\n",
    "    [216, 211, 200, 209],\n",
    "    [224, 212, 215, 227],\n",
    "    [224, 205, 227, 230]\n",
    "]\n",
    "\n",
    "print(gaussian_filter(img_matrix, sigma=0.5))\n",
    "\n",
    "\n",
    "# gaussian kernel for sigma = 0.5 is:\n",
    "# gaussian_kernel = [\n",
    "#     [0.0116, 0.0861, 0.0116],\n",
    "#     [0.0861, 0.6366, 0.0861],\n",
    "#     [0.0116, 0.0861, 0.0116]\n",
    "# ]\n"
   ]
  },
  {
   "cell_type": "markdown",
   "metadata": {},
   "source": [
    "## Mean Filter"
   ]
  },
  {
   "cell_type": "code",
   "execution_count": 55,
   "metadata": {},
   "outputs": [
    {
     "name": "stdout",
     "output_type": "stream",
     "text": [
      "[[  0   0   0   0]\n",
      " [  0 207 205   0]\n",
      " [  0 214 215   0]\n",
      " [  0   0   0   0]]\n"
     ]
    }
   ],
   "source": [
    "import numpy as np\n",
    "  \n",
    "\n",
    "def mean_filter(img, mask_size):\n",
    "\n",
    "    row, col = len(img), len(img[0])\n",
    "\n",
    "    # Develop Averaging filter mask\n",
    "    mask = np.ones([mask_size, mask_size], dtype = int)\n",
    "    mask = mask / 9\n",
    "\n",
    "    # Convolve the mask over the image\n",
    "    img_new = np.zeros([row, col])\n",
    "    \n",
    "    for i in range(1, row-1):\n",
    "        for j in range(1, col-1):\n",
    "            temp = img[i-1, j-1]*mask[0, 0]+img[i-1, j]*mask[0, 1]+img[i-1, j + 1]*mask[0, 2]+img[i, j-1]*mask[1, 0]+ img[i, j]*mask[1, 1]+img[i, j + 1]*mask[1, 2]+img[i + 1, j-1]*mask[2, 0]+img[i + 1, j]*mask[2, 1]+img[i + 1, j + 1]*mask[2, 2]\n",
    "            img_new[i, j]= temp\n",
    "            \n",
    "    img_new = img_new.astype(np.uint8)\n",
    "    return img_new\n",
    "\n",
    "\n",
    "# for example\n",
    "img = [\n",
    "    [202, 195, 192, 191],\n",
    "    [216, 211, 200, 209],\n",
    "    [224, 212, 215, 227],\n",
    "    [224, 205, 227, 230]\n",
    "]\n",
    "img = np.array(img)\n",
    "\n",
    "print(mean_filter(img, 3))"
   ]
  }
 ],
 "metadata": {
  "interpreter": {
   "hash": "4e45770021c82b83c6a56dde8a63f999991416ec1b91001cec6caa452825c2d3"
  },
  "kernelspec": {
   "display_name": "Python 3 (ipykernel)",
   "language": "python",
   "name": "python3"
  },
  "language_info": {
   "codemirror_mode": {
    "name": "ipython",
    "version": 3
   },
   "file_extension": ".py",
   "mimetype": "text/x-python",
   "name": "python",
   "nbconvert_exporter": "python",
   "pygments_lexer": "ipython3",
   "version": "3.10.3"
  }
 },
 "nbformat": 4,
 "nbformat_minor": 2
}
